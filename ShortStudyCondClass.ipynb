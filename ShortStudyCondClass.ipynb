{
  "nbformat": 4,
  "nbformat_minor": 0,
  "metadata": {
    "colab": {
      "provenance": [],
      "mount_file_id": "1Vd5LcGy-V2wJB-FUcYwmEzEB5ka_3SEi",
      "authorship_tag": "ABX9TyO0nSah1XTX35jKbBq8p7jn",
      "include_colab_link": true
    },
    "kernelspec": {
      "name": "python3",
      "display_name": "Python 3"
    },
    "language_info": {
      "name": "python"
    }
  },
  "cells": [
    {
      "cell_type": "markdown",
      "metadata": {
        "id": "view-in-github",
        "colab_type": "text"
      },
      "source": [
        "<a href=\"https://colab.research.google.com/github/DrVenkataRajeshKumar/CondyleClassification/blob/main/ShortStudyCondClass.ipynb\" target=\"_parent\"><img src=\"https://colab.research.google.com/assets/colab-badge.svg\" alt=\"Open In Colab\"/></a>"
      ]
    },
    {
      "cell_type": "code",
      "execution_count": 1,
      "metadata": {
        "colab": {
          "base_uri": "https://localhost:8080/"
        },
        "id": "5uG02rjfvxG0",
        "outputId": "b3ce131d-fc10-478b-a4bb-f6e5cab8ea37"
      },
      "outputs": [
        {
          "output_type": "stream",
          "name": "stdout",
          "text": [
            "Mounted at /content/drive\n"
          ]
        }
      ],
      "source": [
        "from google.colab import drive\n",
        "drive.mount('/content/drive')\n"
      ]
    },
    {
      "cell_type": "code",
      "source": [
        "!rm -rf short.study\n",
        "!wget -q https://github.com/DrVenkataRajeshKumar/CondyleClassification/releases/download/condyles/short.study.zip\n",
        "!unzip -q short.study"
      ],
      "metadata": {
        "id": "yPo7nDrOn42N"
      },
      "execution_count": 6,
      "outputs": []
    },
    {
      "cell_type": "code",
      "source": [
        "!pip install torch torchvision\n"
      ],
      "metadata": {
        "colab": {
          "base_uri": "https://localhost:8080/"
        },
        "id": "j0agMdS1wDn5",
        "outputId": "8624f618-75d3-47b5-d193-88c4a9d2a70b"
      },
      "execution_count": 7,
      "outputs": [
        {
          "output_type": "stream",
          "name": "stdout",
          "text": [
            "Requirement already satisfied: torch in /usr/local/lib/python3.10/dist-packages (2.3.1+cu121)\n",
            "Requirement already satisfied: torchvision in /usr/local/lib/python3.10/dist-packages (0.18.1+cu121)\n",
            "Requirement already satisfied: filelock in /usr/local/lib/python3.10/dist-packages (from torch) (3.15.4)\n",
            "Requirement already satisfied: typing-extensions>=4.8.0 in /usr/local/lib/python3.10/dist-packages (from torch) (4.12.2)\n",
            "Requirement already satisfied: sympy in /usr/local/lib/python3.10/dist-packages (from torch) (1.13.1)\n",
            "Requirement already satisfied: networkx in /usr/local/lib/python3.10/dist-packages (from torch) (3.3)\n",
            "Requirement already satisfied: jinja2 in /usr/local/lib/python3.10/dist-packages (from torch) (3.1.4)\n",
            "Requirement already satisfied: fsspec in /usr/local/lib/python3.10/dist-packages (from torch) (2023.6.0)\n",
            "Collecting nvidia-cuda-nvrtc-cu12==12.1.105 (from torch)\n",
            "  Using cached nvidia_cuda_nvrtc_cu12-12.1.105-py3-none-manylinux1_x86_64.whl.metadata (1.5 kB)\n",
            "Collecting nvidia-cuda-runtime-cu12==12.1.105 (from torch)\n",
            "  Using cached nvidia_cuda_runtime_cu12-12.1.105-py3-none-manylinux1_x86_64.whl.metadata (1.5 kB)\n",
            "Collecting nvidia-cuda-cupti-cu12==12.1.105 (from torch)\n",
            "  Using cached nvidia_cuda_cupti_cu12-12.1.105-py3-none-manylinux1_x86_64.whl.metadata (1.6 kB)\n",
            "Collecting nvidia-cudnn-cu12==8.9.2.26 (from torch)\n",
            "  Using cached nvidia_cudnn_cu12-8.9.2.26-py3-none-manylinux1_x86_64.whl.metadata (1.6 kB)\n",
            "Collecting nvidia-cublas-cu12==12.1.3.1 (from torch)\n",
            "  Using cached nvidia_cublas_cu12-12.1.3.1-py3-none-manylinux1_x86_64.whl.metadata (1.5 kB)\n",
            "Collecting nvidia-cufft-cu12==11.0.2.54 (from torch)\n",
            "  Using cached nvidia_cufft_cu12-11.0.2.54-py3-none-manylinux1_x86_64.whl.metadata (1.5 kB)\n",
            "Collecting nvidia-curand-cu12==10.3.2.106 (from torch)\n",
            "  Using cached nvidia_curand_cu12-10.3.2.106-py3-none-manylinux1_x86_64.whl.metadata (1.5 kB)\n",
            "Collecting nvidia-cusolver-cu12==11.4.5.107 (from torch)\n",
            "  Using cached nvidia_cusolver_cu12-11.4.5.107-py3-none-manylinux1_x86_64.whl.metadata (1.6 kB)\n",
            "Collecting nvidia-cusparse-cu12==12.1.0.106 (from torch)\n",
            "  Using cached nvidia_cusparse_cu12-12.1.0.106-py3-none-manylinux1_x86_64.whl.metadata (1.6 kB)\n",
            "Collecting nvidia-nccl-cu12==2.20.5 (from torch)\n",
            "  Using cached nvidia_nccl_cu12-2.20.5-py3-none-manylinux2014_x86_64.whl.metadata (1.8 kB)\n",
            "Collecting nvidia-nvtx-cu12==12.1.105 (from torch)\n",
            "  Using cached nvidia_nvtx_cu12-12.1.105-py3-none-manylinux1_x86_64.whl.metadata (1.7 kB)\n",
            "Requirement already satisfied: triton==2.3.1 in /usr/local/lib/python3.10/dist-packages (from torch) (2.3.1)\n",
            "Collecting nvidia-nvjitlink-cu12 (from nvidia-cusolver-cu12==11.4.5.107->torch)\n",
            "  Downloading nvidia_nvjitlink_cu12-12.6.68-py3-none-manylinux2014_x86_64.whl.metadata (1.5 kB)\n",
            "Requirement already satisfied: numpy in /usr/local/lib/python3.10/dist-packages (from torchvision) (1.25.2)\n",
            "Requirement already satisfied: pillow!=8.3.*,>=5.3.0 in /usr/local/lib/python3.10/dist-packages (from torchvision) (9.4.0)\n",
            "Requirement already satisfied: MarkupSafe>=2.0 in /usr/local/lib/python3.10/dist-packages (from jinja2->torch) (2.1.5)\n",
            "Requirement already satisfied: mpmath<1.4,>=1.1.0 in /usr/local/lib/python3.10/dist-packages (from sympy->torch) (1.3.0)\n",
            "Using cached nvidia_cublas_cu12-12.1.3.1-py3-none-manylinux1_x86_64.whl (410.6 MB)\n",
            "Using cached nvidia_cuda_cupti_cu12-12.1.105-py3-none-manylinux1_x86_64.whl (14.1 MB)\n",
            "Using cached nvidia_cuda_nvrtc_cu12-12.1.105-py3-none-manylinux1_x86_64.whl (23.7 MB)\n",
            "Using cached nvidia_cuda_runtime_cu12-12.1.105-py3-none-manylinux1_x86_64.whl (823 kB)\n",
            "Using cached nvidia_cudnn_cu12-8.9.2.26-py3-none-manylinux1_x86_64.whl (731.7 MB)\n",
            "Using cached nvidia_cufft_cu12-11.0.2.54-py3-none-manylinux1_x86_64.whl (121.6 MB)\n",
            "Using cached nvidia_curand_cu12-10.3.2.106-py3-none-manylinux1_x86_64.whl (56.5 MB)\n",
            "Using cached nvidia_cusolver_cu12-11.4.5.107-py3-none-manylinux1_x86_64.whl (124.2 MB)\n",
            "Using cached nvidia_cusparse_cu12-12.1.0.106-py3-none-manylinux1_x86_64.whl (196.0 MB)\n",
            "Using cached nvidia_nccl_cu12-2.20.5-py3-none-manylinux2014_x86_64.whl (176.2 MB)\n",
            "Using cached nvidia_nvtx_cu12-12.1.105-py3-none-manylinux1_x86_64.whl (99 kB)\n",
            "Downloading nvidia_nvjitlink_cu12-12.6.68-py3-none-manylinux2014_x86_64.whl (19.7 MB)\n",
            "\u001b[2K   \u001b[90m━━━━━━━━━━━━━━━━━━━━━━━━━━━━━━━━━━━━━━━━\u001b[0m \u001b[32m19.7/19.7 MB\u001b[0m \u001b[31m13.4 MB/s\u001b[0m eta \u001b[36m0:00:00\u001b[0m\n",
            "\u001b[?25hInstalling collected packages: nvidia-nvtx-cu12, nvidia-nvjitlink-cu12, nvidia-nccl-cu12, nvidia-curand-cu12, nvidia-cufft-cu12, nvidia-cuda-runtime-cu12, nvidia-cuda-nvrtc-cu12, nvidia-cuda-cupti-cu12, nvidia-cublas-cu12, nvidia-cusparse-cu12, nvidia-cudnn-cu12, nvidia-cusolver-cu12\n",
            "Successfully installed nvidia-cublas-cu12-12.1.3.1 nvidia-cuda-cupti-cu12-12.1.105 nvidia-cuda-nvrtc-cu12-12.1.105 nvidia-cuda-runtime-cu12-12.1.105 nvidia-cudnn-cu12-8.9.2.26 nvidia-cufft-cu12-11.0.2.54 nvidia-curand-cu12-10.3.2.106 nvidia-cusolver-cu12-11.4.5.107 nvidia-cusparse-cu12-12.1.0.106 nvidia-nccl-cu12-2.20.5 nvidia-nvjitlink-cu12-12.6.68 nvidia-nvtx-cu12-12.1.105\n"
          ]
        }
      ]
    },
    {
      "cell_type": "code",
      "source": [
        "import torch\n",
        "import torch.nn as nn\n",
        "from torchvision import models\n",
        "\n",
        "# Define the same model architecture (ResNet18)\n",
        "model = models.resnet18(weights=None)  # Use weights=None since 'pretrained' is deprecated\n",
        "num_ftrs = model.fc.in_features\n",
        "model.fc = nn.Linear(num_ftrs, 4)  # Adjusting to 4 output classes\n",
        "\n",
        "# Load the saved weights, and map them to the CPU (or current device if available)\n",
        "device = torch.device('cuda' if torch.cuda.is_available() else 'cpu')\n",
        "model.load_state_dict(torch.load('/content/drive/MyDrive/best_model.pth', map_location=device))\n",
        "\n",
        "# Set the model to evaluation mode\n",
        "model.eval()\n",
        "\n",
        "# Now you can use the model for inference or further training\n"
      ],
      "metadata": {
        "colab": {
          "base_uri": "https://localhost:8080/"
        },
        "id": "hnm4u8Icuiys",
        "outputId": "faf224dc-cb98-4978-cb44-196d38d68fd4"
      },
      "execution_count": 14,
      "outputs": [
        {
          "output_type": "execute_result",
          "data": {
            "text/plain": [
              "ResNet(\n",
              "  (conv1): Conv2d(3, 64, kernel_size=(7, 7), stride=(2, 2), padding=(3, 3), bias=False)\n",
              "  (bn1): BatchNorm2d(64, eps=1e-05, momentum=0.1, affine=True, track_running_stats=True)\n",
              "  (relu): ReLU(inplace=True)\n",
              "  (maxpool): MaxPool2d(kernel_size=3, stride=2, padding=1, dilation=1, ceil_mode=False)\n",
              "  (layer1): Sequential(\n",
              "    (0): BasicBlock(\n",
              "      (conv1): Conv2d(64, 64, kernel_size=(3, 3), stride=(1, 1), padding=(1, 1), bias=False)\n",
              "      (bn1): BatchNorm2d(64, eps=1e-05, momentum=0.1, affine=True, track_running_stats=True)\n",
              "      (relu): ReLU(inplace=True)\n",
              "      (conv2): Conv2d(64, 64, kernel_size=(3, 3), stride=(1, 1), padding=(1, 1), bias=False)\n",
              "      (bn2): BatchNorm2d(64, eps=1e-05, momentum=0.1, affine=True, track_running_stats=True)\n",
              "    )\n",
              "    (1): BasicBlock(\n",
              "      (conv1): Conv2d(64, 64, kernel_size=(3, 3), stride=(1, 1), padding=(1, 1), bias=False)\n",
              "      (bn1): BatchNorm2d(64, eps=1e-05, momentum=0.1, affine=True, track_running_stats=True)\n",
              "      (relu): ReLU(inplace=True)\n",
              "      (conv2): Conv2d(64, 64, kernel_size=(3, 3), stride=(1, 1), padding=(1, 1), bias=False)\n",
              "      (bn2): BatchNorm2d(64, eps=1e-05, momentum=0.1, affine=True, track_running_stats=True)\n",
              "    )\n",
              "  )\n",
              "  (layer2): Sequential(\n",
              "    (0): BasicBlock(\n",
              "      (conv1): Conv2d(64, 128, kernel_size=(3, 3), stride=(2, 2), padding=(1, 1), bias=False)\n",
              "      (bn1): BatchNorm2d(128, eps=1e-05, momentum=0.1, affine=True, track_running_stats=True)\n",
              "      (relu): ReLU(inplace=True)\n",
              "      (conv2): Conv2d(128, 128, kernel_size=(3, 3), stride=(1, 1), padding=(1, 1), bias=False)\n",
              "      (bn2): BatchNorm2d(128, eps=1e-05, momentum=0.1, affine=True, track_running_stats=True)\n",
              "      (downsample): Sequential(\n",
              "        (0): Conv2d(64, 128, kernel_size=(1, 1), stride=(2, 2), bias=False)\n",
              "        (1): BatchNorm2d(128, eps=1e-05, momentum=0.1, affine=True, track_running_stats=True)\n",
              "      )\n",
              "    )\n",
              "    (1): BasicBlock(\n",
              "      (conv1): Conv2d(128, 128, kernel_size=(3, 3), stride=(1, 1), padding=(1, 1), bias=False)\n",
              "      (bn1): BatchNorm2d(128, eps=1e-05, momentum=0.1, affine=True, track_running_stats=True)\n",
              "      (relu): ReLU(inplace=True)\n",
              "      (conv2): Conv2d(128, 128, kernel_size=(3, 3), stride=(1, 1), padding=(1, 1), bias=False)\n",
              "      (bn2): BatchNorm2d(128, eps=1e-05, momentum=0.1, affine=True, track_running_stats=True)\n",
              "    )\n",
              "  )\n",
              "  (layer3): Sequential(\n",
              "    (0): BasicBlock(\n",
              "      (conv1): Conv2d(128, 256, kernel_size=(3, 3), stride=(2, 2), padding=(1, 1), bias=False)\n",
              "      (bn1): BatchNorm2d(256, eps=1e-05, momentum=0.1, affine=True, track_running_stats=True)\n",
              "      (relu): ReLU(inplace=True)\n",
              "      (conv2): Conv2d(256, 256, kernel_size=(3, 3), stride=(1, 1), padding=(1, 1), bias=False)\n",
              "      (bn2): BatchNorm2d(256, eps=1e-05, momentum=0.1, affine=True, track_running_stats=True)\n",
              "      (downsample): Sequential(\n",
              "        (0): Conv2d(128, 256, kernel_size=(1, 1), stride=(2, 2), bias=False)\n",
              "        (1): BatchNorm2d(256, eps=1e-05, momentum=0.1, affine=True, track_running_stats=True)\n",
              "      )\n",
              "    )\n",
              "    (1): BasicBlock(\n",
              "      (conv1): Conv2d(256, 256, kernel_size=(3, 3), stride=(1, 1), padding=(1, 1), bias=False)\n",
              "      (bn1): BatchNorm2d(256, eps=1e-05, momentum=0.1, affine=True, track_running_stats=True)\n",
              "      (relu): ReLU(inplace=True)\n",
              "      (conv2): Conv2d(256, 256, kernel_size=(3, 3), stride=(1, 1), padding=(1, 1), bias=False)\n",
              "      (bn2): BatchNorm2d(256, eps=1e-05, momentum=0.1, affine=True, track_running_stats=True)\n",
              "    )\n",
              "  )\n",
              "  (layer4): Sequential(\n",
              "    (0): BasicBlock(\n",
              "      (conv1): Conv2d(256, 512, kernel_size=(3, 3), stride=(2, 2), padding=(1, 1), bias=False)\n",
              "      (bn1): BatchNorm2d(512, eps=1e-05, momentum=0.1, affine=True, track_running_stats=True)\n",
              "      (relu): ReLU(inplace=True)\n",
              "      (conv2): Conv2d(512, 512, kernel_size=(3, 3), stride=(1, 1), padding=(1, 1), bias=False)\n",
              "      (bn2): BatchNorm2d(512, eps=1e-05, momentum=0.1, affine=True, track_running_stats=True)\n",
              "      (downsample): Sequential(\n",
              "        (0): Conv2d(256, 512, kernel_size=(1, 1), stride=(2, 2), bias=False)\n",
              "        (1): BatchNorm2d(512, eps=1e-05, momentum=0.1, affine=True, track_running_stats=True)\n",
              "      )\n",
              "    )\n",
              "    (1): BasicBlock(\n",
              "      (conv1): Conv2d(512, 512, kernel_size=(3, 3), stride=(1, 1), padding=(1, 1), bias=False)\n",
              "      (bn1): BatchNorm2d(512, eps=1e-05, momentum=0.1, affine=True, track_running_stats=True)\n",
              "      (relu): ReLU(inplace=True)\n",
              "      (conv2): Conv2d(512, 512, kernel_size=(3, 3), stride=(1, 1), padding=(1, 1), bias=False)\n",
              "      (bn2): BatchNorm2d(512, eps=1e-05, momentum=0.1, affine=True, track_running_stats=True)\n",
              "    )\n",
              "  )\n",
              "  (avgpool): AdaptiveAvgPool2d(output_size=(1, 1))\n",
              "  (fc): Linear(in_features=512, out_features=4, bias=True)\n",
              ")"
            ]
          },
          "metadata": {},
          "execution_count": 14
        }
      ]
    },
    {
      "cell_type": "code",
      "source": [
        "# Define transformations\n",
        "preprocess = transforms.Compose([\n",
        "    #transforms.Resize((128, 128)),  # Resize image to 224x224 or the size your model expects\n",
        "    transforms.ToTensor(),\n",
        "    transforms.Normalize(mean=[0.485, 0.456, 0.406], std=[0.229, 0.224, 0.225]),\n",
        "])\n"
      ],
      "metadata": {
        "id": "okC5oyFGxq1y"
      },
      "execution_count": 15,
      "outputs": []
    },
    {
      "cell_type": "code",
      "source": [
        "def classify_image(image_path, model, preprocess):\n",
        "    image = Image.open(image_path).convert(\"RGB\")\n",
        "    image = preprocess(image)\n",
        "    image = image.unsqueeze(0).to(device)\n",
        "\n",
        "    with torch.no_grad():\n",
        "        outputs = model(image)\n",
        "        _, predicted = torch.max(outputs, 1)\n",
        "\n",
        "    return predicted.item()\n"
      ],
      "metadata": {
        "id": "SagHNC0ixw8G"
      },
      "execution_count": 16,
      "outputs": []
    },
    {
      "cell_type": "code",
      "source": [
        "from collections import defaultdict\n",
        "\n",
        "# Path to the dataset folders\n",
        "base_folder = '/content/short_study/class_1'\n",
        "\n",
        "# Dictionary to hold counts\n",
        "class_counts = defaultdict(int)\n",
        "total_images = 0\n",
        "\n",
        "# Iterate through the folders\n",
        "for folder_name in os.listdir(base_folder):\n",
        "    folder_path = os.path.join(base_folder, folder_name)\n",
        "    if os.path.isdir(folder_path):\n",
        "        for class_folder in os.listdir(folder_path):\n",
        "            class_folder_path = os.path.join(folder_path, class_folder)\n",
        "            if os.path.isdir(class_folder_path):\n",
        "                for image_name in os.listdir(class_folder_path):\n",
        "                    image_path = os.path.join(class_folder_path, image_name)\n",
        "                    predicted_class = classify_image(image_path, model, preprocess)\n",
        "                    class_counts[predicted_class] += 1\n",
        "                    total_images += 1\n",
        "\n",
        "# Calculate percentages\n",
        "class_percentages = {cls: (count / total_images) * 100 for cls, count in class_counts.items()}\n",
        "\n",
        "# Print results\n",
        "print(\"Class counts:\", class_counts)\n",
        "print(\"Class percentages:\", class_percentages)\n"
      ],
      "metadata": {
        "id": "QgNaDOoUx5vw",
        "colab": {
          "base_uri": "https://localhost:8080/"
        },
        "outputId": "8faffee9-00d1-449c-aebb-478e2914d28a"
      },
      "execution_count": 21,
      "outputs": [
        {
          "output_type": "stream",
          "name": "stdout",
          "text": [
            "Class counts: defaultdict(<class 'int'>, {})\n",
            "Class percentages: {}\n"
          ]
        }
      ]
    },
    {
      "cell_type": "code",
      "source": [
        "import torch\n",
        "from torchvision import transforms\n",
        "from PIL import Image\n",
        "import os\n",
        "\n",
        "# Load the trained model\n",
        "model = models.resnet18(weights=None)  # Use weights=None since 'pretrained' is deprecated\n",
        "num_ftrs = model.fc.in_features\n",
        "model.fc = nn.Linear(num_ftrs, 4)  # Adjust to your number of classes (4)\n",
        "\n",
        "# Load the saved weights onto the appropriate device\n",
        "device = torch.device('cuda' if torch.cuda.is_available() else 'cpu')\n",
        "model.load_state_dict(torch.load('/content/drive/MyDrive/best_model.pth', map_location=device))\n",
        "model = model.to(device)\n",
        "model.eval()\n",
        "\n",
        "# Define the data transforms (same as used during training)\n",
        "data_transforms = transforms.Compose([\n",
        "    transforms.Resize((128, 128)),\n",
        "    transforms.ToTensor(),\n",
        "    transforms.Normalize([0.485, 0.456, 0.406], [0.229, 0.224, 0.225])\n",
        "])\n",
        "\n",
        "# Path to the folder containing images from all classes\n",
        "image_folder = '/content/short_study/class_1'\n",
        "\n",
        "# Dictionary to store class-wise counts\n",
        "class_counts = {0: 0, 1: 0, 2: 0, 3: 0}\n",
        "\n",
        "# Load and predict on each image in the folder\n",
        "for image_name in os.listdir(image_folder):\n",
        "    image_path = os.path.join(image_folder, image_name)\n",
        "    try:\n",
        "        # Open the image file\n",
        "        image = Image.open(image_path)\n",
        "\n",
        "        # Apply transformations\n",
        "        image = data_transforms(image).unsqueeze(0)  # Add batch dimension\n",
        "\n",
        "        # Move image to the appropriate device\n",
        "        image = image.to(device)\n",
        "\n",
        "        # Make prediction\n",
        "        with torch.no_grad():\n",
        "            outputs = model(image)\n",
        "            _, predicted_class = torch.max(outputs, 1)\n",
        "            class_counts[predicted_class.item()] += 1\n",
        "\n",
        "    except Exception as e:\n",
        "        print(f\"Error loading or processing image {image_name}: {e}\")\n",
        "\n",
        "# Calculate the total number of images\n",
        "total_images = sum(class_counts.values())\n",
        "\n",
        "# Calculate percentage for each class\n",
        "class_percentages = {class_idx: (count / total_images) * 100 for class_idx, count in class_counts.items()}\n",
        "\n",
        "# Print the results\n",
        "for class_idx, count in class_counts.items():\n",
        "    print(f\"Class {class_idx + 1}: {count} images ({class_percentages[class_idx]:.2f}%)\")\n",
        "\n",
        "# Overall results\n",
        "print(f\"Total images processed: {total_images}\")\n"
      ],
      "metadata": {
        "colab": {
          "base_uri": "https://localhost:8080/"
        },
        "id": "ukoc2FqaweJt",
        "outputId": "70ccca44-9152-4a76-a677-800481f76277"
      },
      "execution_count": 22,
      "outputs": [
        {
          "output_type": "stream",
          "name": "stdout",
          "text": [
            "Class 1: 181 images (98.37%)\n",
            "Class 2: 1 images (0.54%)\n",
            "Class 3: 1 images (0.54%)\n",
            "Class 4: 1 images (0.54%)\n",
            "Total images processed: 184\n"
          ]
        }
      ]
    },
    {
      "cell_type": "code",
      "source": [
        "import torch\n",
        "from torchvision import transforms\n",
        "from PIL import Image\n",
        "import os\n",
        "\n",
        "# Load the trained model\n",
        "model = models.resnet18(weights=None)  # Use weights=None since 'pretrained' is deprecated\n",
        "num_ftrs = model.fc.in_features\n",
        "model.fc = nn.Linear(num_ftrs, 4)  # Adjust to your number of classes (4)\n",
        "\n",
        "# Load the saved weights onto the appropriate device\n",
        "device = torch.device('cuda' if torch.cuda.is_available() else 'cpu')\n",
        "model.load_state_dict(torch.load('/content/drive/MyDrive/best_model.pth', map_location=device))\n",
        "model = model.to(device)\n",
        "model.eval()\n",
        "\n",
        "# Define the data transforms (same as used during training)\n",
        "data_transforms = transforms.Compose([\n",
        "    transforms.Resize((128, 128)),\n",
        "    transforms.ToTensor(),\n",
        "    transforms.Normalize([0.485, 0.456, 0.406], [0.229, 0.224, 0.225])\n",
        "])\n",
        "\n",
        "# Path to the folder containing images from all classes\n",
        "image_folder = '/content/short_study/class_2'\n",
        "\n",
        "# Dictionary to store class-wise counts\n",
        "class_counts = {0: 0, 1: 0, 2: 0, 3: 0}\n",
        "\n",
        "# Load and predict on each image in the folder\n",
        "for image_name in os.listdir(image_folder):\n",
        "    image_path = os.path.join(image_folder, image_name)\n",
        "    try:\n",
        "        # Open the image file\n",
        "        image = Image.open(image_path)\n",
        "\n",
        "        # Apply transformations\n",
        "        image = data_transforms(image).unsqueeze(0)  # Add batch dimension\n",
        "\n",
        "        # Move image to the appropriate device\n",
        "        image = image.to(device)\n",
        "\n",
        "        # Make prediction\n",
        "        with torch.no_grad():\n",
        "            outputs = model(image)\n",
        "            _, predicted_class = torch.max(outputs, 1)\n",
        "            class_counts[predicted_class.item()] += 1\n",
        "\n",
        "    except Exception as e:\n",
        "        print(f\"Error loading or processing image {image_name}: {e}\")\n",
        "\n",
        "# Calculate the total number of images\n",
        "total_images = sum(class_counts.values())\n",
        "\n",
        "# Calculate percentage for each class\n",
        "class_percentages = {class_idx: (count / total_images) * 100 for class_idx, count in class_counts.items()}\n",
        "\n",
        "# Print the results\n",
        "for class_idx, count in class_counts.items():\n",
        "    print(f\"Class {class_idx + 1}: {count} images ({class_percentages[class_idx]:.2f}%)\")\n",
        "\n",
        "# Overall results\n",
        "print(f\"Total images processed: {total_images}\")\n"
      ],
      "metadata": {
        "colab": {
          "base_uri": "https://localhost:8080/"
        },
        "id": "TahNkJjqw_Ko",
        "outputId": "03fda3ca-2689-4fd1-d876-175cf2e57ec0"
      },
      "execution_count": 23,
      "outputs": [
        {
          "output_type": "stream",
          "name": "stdout",
          "text": [
            "Class 1: 170 images (98.27%)\n",
            "Class 2: 1 images (0.58%)\n",
            "Class 3: 2 images (1.16%)\n",
            "Class 4: 0 images (0.00%)\n",
            "Total images processed: 173\n"
          ]
        }
      ]
    },
    {
      "cell_type": "code",
      "source": [
        "import torch\n",
        "from torchvision import transforms\n",
        "from PIL import Image\n",
        "import os\n",
        "\n",
        "# Load the trained model\n",
        "model = models.resnet18(weights=None)  # Use weights=None since 'pretrained' is deprecated\n",
        "num_ftrs = model.fc.in_features\n",
        "model.fc = nn.Linear(num_ftrs, 4)  # Adjust to your number of classes (4)\n",
        "\n",
        "# Load the saved weights onto the appropriate device\n",
        "device = torch.device('cuda' if torch.cuda.is_available() else 'cpu')\n",
        "model.load_state_dict(torch.load('/content/drive/MyDrive/best_model.pth', map_location=device))\n",
        "model = model.to(device)\n",
        "model.eval()\n",
        "\n",
        "# Define the data transforms (same as used during training)\n",
        "data_transforms = transforms.Compose([\n",
        "    transforms.Resize((128, 128)),\n",
        "    transforms.ToTensor(),\n",
        "    transforms.Normalize([0.485, 0.456, 0.406], [0.229, 0.224, 0.225])\n",
        "])\n",
        "\n",
        "# Path to the folder containing images from all classes\n",
        "image_folder = '/content/short_study/class_3'\n",
        "\n",
        "# Dictionary to store class-wise counts\n",
        "class_counts = {0: 0, 1: 0, 2: 0, 3: 0}\n",
        "\n",
        "# Load and predict on each image in the folder\n",
        "for image_name in os.listdir(image_folder):\n",
        "    image_path = os.path.join(image_folder, image_name)\n",
        "    try:\n",
        "        # Open the image file\n",
        "        image = Image.open(image_path)\n",
        "\n",
        "        # Apply transformations\n",
        "        image = data_transforms(image).unsqueeze(0)  # Add batch dimension\n",
        "\n",
        "        # Move image to the appropriate device\n",
        "        image = image.to(device)\n",
        "\n",
        "        # Make prediction\n",
        "        with torch.no_grad():\n",
        "            outputs = model(image)\n",
        "            _, predicted_class = torch.max(outputs, 1)\n",
        "            class_counts[predicted_class.item()] += 1\n",
        "\n",
        "    except Exception as e:\n",
        "        print(f\"Error loading or processing image {image_name}: {e}\")\n",
        "\n",
        "# Calculate the total number of images\n",
        "total_images = sum(class_counts.values())\n",
        "\n",
        "# Calculate percentage for each class\n",
        "class_percentages = {class_idx: (count / total_images) * 100 for class_idx, count in class_counts.items()}\n",
        "\n",
        "# Print the results\n",
        "for class_idx, count in class_counts.items():\n",
        "    print(f\"Class {class_idx + 1}: {count} images ({class_percentages[class_idx]:.2f}%)\")\n",
        "\n",
        "# Overall results\n",
        "print(f\"Total images processed: {total_images}\")\n"
      ],
      "metadata": {
        "colab": {
          "base_uri": "https://localhost:8080/"
        },
        "id": "aoIuMX68xPOt",
        "outputId": "164dcaa4-5ffd-4128-aeb8-57a9575332c9"
      },
      "execution_count": 24,
      "outputs": [
        {
          "output_type": "stream",
          "name": "stdout",
          "text": [
            "Error loading or processing image Copy of 63.png: The size of tensor a (4) must match the size of tensor b (3) at non-singleton dimension 0\n",
            "Class 1: 109 images (97.32%)\n",
            "Class 2: 0 images (0.00%)\n",
            "Class 3: 3 images (2.68%)\n",
            "Class 4: 0 images (0.00%)\n",
            "Total images processed: 112\n"
          ]
        }
      ]
    },
    {
      "cell_type": "code",
      "source": [
        "# prompt: generate a graph or table for distribution of calsses among class_1, class_2 and class_3\n",
        "\n",
        "import matplotlib.pyplot as plt\n",
        "import numpy as np\n",
        "\n",
        "# Data from previous calculations (replace with your actual data)\n",
        "class_1_percentages = class_percentages  # Assuming class_percentages is the result from processing 'class_1'\n",
        "class_2_percentages = class_percentages  # Assuming class_percentages is the result from processing 'class_2'\n",
        "class_3_percentages = class_percentages  # Assuming class_percentages is the result from processing 'class_3'\n",
        "\n",
        "# Extract percentages for each class across all three folders\n",
        "class_1_values = [class_1_percentages[i] for i in range(4)]\n",
        "class_2_values = [class_2_percentages[i] for i in range(4)]\n",
        "class_3_values = [class_3_percentages[i] for i in range(4)]\n",
        "\n",
        "# Create labels for the x-axis\n",
        "class_labels = [f\"Class {i+1}\" for i in range(4)]\n",
        "\n",
        "# Set the width of the bars\n",
        "bar_width = 0.25\n",
        "\n",
        "# Set the positions of the bars on the x-axis\n",
        "r1 = np.arange(len(class_labels))\n",
        "r2 = [x + bar_width for x in r1]\n",
        "r3 = [x + bar_width for x in r2]\n",
        "\n",
        "# Create the bar chart\n",
        "plt.figure(figsize=(10, 6))\n",
        "plt.bar(r1, class_1_values, color='blue', width=bar_width, edgecolor='grey', label='Class 1')\n",
        "plt.bar(r2, class_2_values, color='green', width=bar_width, edgecolor='grey', label='Class 2')\n",
        "plt.bar(r3, class_3_values, color='red', width=bar_width, edgecolor='grey', label='Class 3')\n",
        "\n",
        "# Add labels, title, and legend\n",
        "plt.xlabel(\"Classes\")\n",
        "plt.ylabel(\"Percentage Distribution\")\n",
        "plt.title(\"Distribution of Classes among Class 1, Class 2, and Class 3\")\n",
        "plt.xticks([r + bar_width for r in range(len(class_labels))], class_labels)\n",
        "plt.legend()\n",
        "\n",
        "# Show the chart\n",
        "plt.show()\n"
      ],
      "metadata": {
        "colab": {
          "base_uri": "https://localhost:8080/",
          "height": 564
        },
        "id": "D0cqk6cSxmRl",
        "outputId": "18a285b6-d61e-44b8-fc8e-a94db86f9788"
      },
      "execution_count": 25,
      "outputs": [
        {
          "output_type": "display_data",
          "data": {
            "text/plain": [
              "<Figure size 1000x600 with 1 Axes>"
            ],
            "image/png": "[encoded data removed]"
          },
          "metadata": {}
        }
      ]
    }
  ]
}